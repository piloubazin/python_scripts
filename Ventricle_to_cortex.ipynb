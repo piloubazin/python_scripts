{
 "cells": [
  {
   "cell_type": "code",
   "execution_count": 1,
   "metadata": {},
   "outputs": [],
   "source": [
    "import nighres\n",
    "import nibabel"
   ]
  },
  {
   "cell_type": "code",
   "execution_count": 2,
   "metadata": {},
   "outputs": [],
   "source": [
    "cgb='examples/nighres_examples/cortical_depth_estimation/sub001_sess1_left_cerebrum_cruise_cgb.nii.gz'"
   ]
  },
  {
   "cell_type": "code",
   "execution_count": 3,
   "metadata": {},
   "outputs": [],
   "source": [
    "seg_file='examples/nighres_examples/tissue_classification/sub001_sess1_mgdm_seg.nii.gz'"
   ]
  },
  {
   "cell_type": "code",
   "execution_count": 4,
   "metadata": {},
   "outputs": [],
   "source": [
    "seg = nighres.io.load_volume(seg_file)\n",
    "vent=nibabel.Nifti1Image(seg.get_data()==11,seg.affine,seg.header)"
   ]
  },
  {
   "cell_type": "code",
   "execution_count": 7,
   "metadata": {},
   "outputs": [
    {
     "name": "stdout",
     "output_type": "stream",
     "text": [
      "\n",
      "Probability to Levelset\n"
     ]
    }
   ],
   "source": [
    "vent_lvl=nighres.surface.probability_to_levelset(vent)"
   ]
  },
  {
   "cell_type": "code",
   "execution_count": 8,
   "metadata": {},
   "outputs": [
    {
     "name": "stdout",
     "output_type": "stream",
     "text": [
      "\n",
      "Saving sub001_sess1_mgdm_seg_vent_lvl.nii.gz\n"
     ]
    }
   ],
   "source": [
    "vent_file = nighres.utils._fname_4saving(rootfile=seg_file,suffix='vent_lvl')\n",
    "nighres.io.save_volume(vent_file,vent_lvl['result'])"
   ]
  },
  {
   "cell_type": "code",
   "execution_count": 9,
   "metadata": {},
   "outputs": [
    {
     "name": "stdout",
     "output_type": "stream",
     "text": [
      "\n",
      "Volumetric Layering\n",
      "\n",
      "Outputs will be saved to /media/pilou/disk/polecat/Code/github/nighres/\n",
      "skip computation (use existing results)\n"
     ]
    }
   ],
   "source": [
    "lamina = nighres.laminar.volumetric_layering(inner_levelset=vent_file,outer_levelset=cgb,n_layers=20,save_data=True,overwrite=False)"
   ]
  },
  {
   "cell_type": "code",
   "execution_count": 11,
   "metadata": {},
   "outputs": [
    {
     "name": "stdout",
     "output_type": "stream",
     "text": [
      "\n",
      "Levelset to Mesh\n",
      "\n",
      "Profile meshing\n",
      "\n",
      "Outputs will be saved to /media/pilou/disk/polecat/Code/github/nighres/\n",
      "\n",
      "Saving /media/pilou/disk/polecat/Code/github/nighres/sub001_sess1_mgdm_seg_vent_lvl_layering-boundaries_mesh-p0.vtk\n",
      "\n",
      "Saving /media/pilou/disk/polecat/Code/github/nighres/sub001_sess1_mgdm_seg_vent_lvl_layering-boundaries_mesh-p1.vtk\n",
      "\n",
      "Saving /media/pilou/disk/polecat/Code/github/nighres/sub001_sess1_mgdm_seg_vent_lvl_layering-boundaries_mesh-p2.vtk\n",
      "\n",
      "Saving /media/pilou/disk/polecat/Code/github/nighres/sub001_sess1_mgdm_seg_vent_lvl_layering-boundaries_mesh-p3.vtk\n",
      "\n",
      "Saving /media/pilou/disk/polecat/Code/github/nighres/sub001_sess1_mgdm_seg_vent_lvl_layering-boundaries_mesh-p4.vtk\n",
      "\n",
      "Saving /media/pilou/disk/polecat/Code/github/nighres/sub001_sess1_mgdm_seg_vent_lvl_layering-boundaries_mesh-p5.vtk\n",
      "\n",
      "Saving /media/pilou/disk/polecat/Code/github/nighres/sub001_sess1_mgdm_seg_vent_lvl_layering-boundaries_mesh-p6.vtk\n",
      "\n",
      "Saving /media/pilou/disk/polecat/Code/github/nighres/sub001_sess1_mgdm_seg_vent_lvl_layering-boundaries_mesh-p7.vtk\n",
      "\n",
      "Saving /media/pilou/disk/polecat/Code/github/nighres/sub001_sess1_mgdm_seg_vent_lvl_layering-boundaries_mesh-p8.vtk\n",
      "\n",
      "Saving /media/pilou/disk/polecat/Code/github/nighres/sub001_sess1_mgdm_seg_vent_lvl_layering-boundaries_mesh-p9.vtk\n",
      "\n",
      "Saving /media/pilou/disk/polecat/Code/github/nighres/sub001_sess1_mgdm_seg_vent_lvl_layering-boundaries_mesh-p10.vtk\n",
      "\n",
      "Saving /media/pilou/disk/polecat/Code/github/nighres/sub001_sess1_mgdm_seg_vent_lvl_layering-boundaries_mesh-p11.vtk\n",
      "\n",
      "Saving /media/pilou/disk/polecat/Code/github/nighres/sub001_sess1_mgdm_seg_vent_lvl_layering-boundaries_mesh-p12.vtk\n",
      "\n",
      "Saving /media/pilou/disk/polecat/Code/github/nighres/sub001_sess1_mgdm_seg_vent_lvl_layering-boundaries_mesh-p13.vtk\n",
      "\n",
      "Saving /media/pilou/disk/polecat/Code/github/nighres/sub001_sess1_mgdm_seg_vent_lvl_layering-boundaries_mesh-p14.vtk\n",
      "\n",
      "Saving /media/pilou/disk/polecat/Code/github/nighres/sub001_sess1_mgdm_seg_vent_lvl_layering-boundaries_mesh-p15.vtk\n",
      "\n",
      "Saving /media/pilou/disk/polecat/Code/github/nighres/sub001_sess1_mgdm_seg_vent_lvl_layering-boundaries_mesh-p16.vtk\n",
      "\n",
      "Saving /media/pilou/disk/polecat/Code/github/nighres/sub001_sess1_mgdm_seg_vent_lvl_layering-boundaries_mesh-p17.vtk\n",
      "\n",
      "Saving /media/pilou/disk/polecat/Code/github/nighres/sub001_sess1_mgdm_seg_vent_lvl_layering-boundaries_mesh-p18.vtk\n",
      "\n",
      "Saving /media/pilou/disk/polecat/Code/github/nighres/sub001_sess1_mgdm_seg_vent_lvl_layering-boundaries_mesh-p19.vtk\n",
      "\n",
      "Saving /media/pilou/disk/polecat/Code/github/nighres/sub001_sess1_mgdm_seg_vent_lvl_layering-boundaries_mesh-p20.vtk\n"
     ]
    }
   ],
   "source": [
    "mid_img = nibabel.Nifti1Image(lamina['boundaries'].get_data()[:,:,:,-1],seg.affine,seg.header)\n",
    "start_mesh = nighres.surface.levelset_to_mesh(mid_img)\n",
    "mesh = nighres.laminar.profile_meshing(lamina['boundaries'].get_filename(),start_mesh['result'],save_data=True,overwrite=True)"
   ]
  },
  {
   "cell_type": "code",
   "execution_count": null,
   "metadata": {},
   "outputs": [],
   "source": []
  }
 ],
 "metadata": {
  "kernelspec": {
   "display_name": "Python 3",
   "language": "python",
   "name": "python3"
  },
  "language_info": {
   "codemirror_mode": {
    "name": "ipython",
    "version": 3
   },
   "file_extension": ".py",
   "mimetype": "text/x-python",
   "name": "python",
   "nbconvert_exporter": "python",
   "pygments_lexer": "ipython3",
   "version": "3.6.7"
  }
 },
 "nbformat": 4,
 "nbformat_minor": 2
}
