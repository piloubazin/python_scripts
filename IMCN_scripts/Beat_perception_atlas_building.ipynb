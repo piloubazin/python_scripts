{
 "cells": [
  {
   "cell_type": "markdown",
   "metadata": {},
   "source": [
    "# AHEAD Beat perception - Atlases\n",
    "For the DWI analysis we are combining data from multiple atlases\n",
    "Here we align the different MNI templates they are defined on, combine the labels when multiple are defined "
   ]
  },
  {
   "cell_type": "raw",
   "metadata": {},
   "source": [
    "ROI\tATLAS\tINDEX\tABBREVIATION\n",
    "auditory cortex                 HCP-MMP\t24\tA1\n",
    "supplementary motor area (SMA)\tHCP-MMP\t44.55\t6ma,6mp\n",
    "                                AAL3\t15.16\tSMA\n",
    "(dorsal) premotor cortex (PMd) \tHCP-MMP\t54,96,56,78,10,11,12\t6d,6a,6v,6r,FEF,PEF,55b\n",
    "                                MarsAtlas\t126.127\tPMdl, PMdm \n",
    "caudate nucleus\t                AAL3\t75.76\tCAU\n",
    "                                CIT168\t1\tCa\n",
    "putamen\t                        AAL3\t77.78\tPUT\n",
    "                                CIT168\t0\tPu\n",
    "globus pallidus (GPi)\t        MASSP\t\tGPi\n",
    "cerebellum \t                    SUIT\t\tlobules IV, V and VI\n",
    "                                AAL3\t101,102,103,104\tCER4_5,CER6\n",
    "                                CHROMA  left IV, V, VI, right IV, V, VI 3,4,5,15,16,17\n",
    "hippocampus\t                    HCP-MMP\t120\tH\n",
    "                                AAL3\t41.42\tHIP\n",
    "thalamus\t                    MASSP\t\tTha\n",
    "                                AAL3\t81.82\tTHA\n"
   ]
  },
  {
   "cell_type": "code",
   "execution_count": 2,
   "metadata": {},
   "outputs": [],
   "source": [
    "#################################################################################\n",
    "## Import the modules\n",
    "#################################################################################\n",
    "import nibabel\n",
    "import numpy\n",
    "import nighres\n",
    "import glob\n",
    "import os\n",
    "import scipy.ndimage\n",
    "#################################################################################"
   ]
  },
  {
   "cell_type": "code",
   "execution_count": 3,
   "metadata": {},
   "outputs": [],
   "source": [
    "# Path settings\n",
    "mainFolder = '/home/public/BeatPerception_DWI/'\n",
    "outputFolder = mainFolder+'Atlases/Derivatives/'\n",
    "\n",
    "template_aal3 = mainFolder+'Atlases/SPM12/avg152T1.nii.gz'\n",
    "template_massp = mainFolder+'Atlases/mni_icbm152_nlin_asym_09b/mni_icbm152_t1_tal_nlin_asym_09b_hires.nii.gz'\n",
    "template_hcp = mainFolder+'Atlases/mni_icbm152_nlin_asym_09a/mni_icbm152_t1_tal_nlin_asym_09a.nii.gz'\n",
    "template_brain = mainFolder+'Atlases/mni_icbm152_nlin_asym_09a/mni_icbm152_t1_tal_nlin_asym_09a_brain.nii.gz'\n",
    "template_gm = mainFolder+'Atlases/mni_icbm152_nlin_asym_09a/mni_icbm152_gm_tal_nlin_asym_09a.nii.gz'\n",
    "template_qt1 = mainFolder+'Atlases/CHROMA_cerebellar_template/CBS24_qT1_0.5mm_brain.nii.gz'\n",
    "\n",
    "atlas_aal3 = mainFolder+'Atlases/AAL3/AAL3v1.nii.gz'\n",
    "atlas_massp = mainFolder+'Atlases/massp2021/massp2021-parcellation_decade-18to80.nii.gz'\n",
    "atlas_hcp = mainFolder+'Atlases/hcp-mmp1-mni09a/HCP-MMP1_on_MNI152_ICBM2009a_nlin.nii.gz'\n",
    "atlas_chroma = mainFolder+'Atlases/CHROMA_cerebellar_template/CHROMA_lobules_cortex_map.nii.gz'"
   ]
  },
  {
   "cell_type": "code",
   "execution_count": 5,
   "metadata": {},
   "outputs": [
    {
     "name": "stdout",
     "output_type": "stream",
     "text": [
      "\n",
      "Embedded ANTs Registration Multi-contrasts\n",
      "\n",
      "Outputs will be saved to /home/public/BeatPerception_DWI/Atlases/Derivatives/\n",
      "skip computation (use existing results)\n",
      "\n",
      "Embedded ANTs Registration Multi-contrasts\n",
      "\n",
      "Outputs will be saved to /home/public/BeatPerception_DWI/Atlases/Derivatives/\n",
      "skip computation (use existing results)\n",
      "\n",
      "Embedded ANTs Registration Multi-contrasts\n",
      "\n",
      "Outputs will be saved to /home/public/BeatPerception_DWI/Atlases/Derivatives/\n",
      "\n",
      "Saving /home/public/BeatPerception_DWI/Atlases/Derivatives/chroma_to_mni2009a_tmp_srcimg0.nii.gz\n",
      "\n",
      "Saving /home/public/BeatPerception_DWI/Atlases/Derivatives/chroma_to_mni2009a_tmp_trgimg0.nii.gz\n",
      "\n",
      "Saving /home/public/BeatPerception_DWI/Atlases/Derivatives/chroma_to_mni2009a_tmp_srccoord.nii.gz\n",
      "\n",
      "Saving /home/public/BeatPerception_DWI/Atlases/Derivatives/chroma_to_mni2009a_tmp_trgcoord.nii.gz\n",
      "registering /home/public/BeatPerception_DWI/Atlases/Derivatives/chroma_to_mni2009a_tmp_srcimg0.nii.gz\n",
      " to /home/public/BeatPerception_DWI/Atlases/Derivatives/chroma_to_mni2009a_tmp_trgimg0.nii.gz\n",
      "['--collapse-output-transforms', '1', '--dimensionality', '3', '--initialize-transforms-per-stage', '0', '--interpolation', 'Linear', '--output', 'chroma_to_mni2009a_tmp_syn', '--transform', 'Rigid[0.1]', '--metric', 'MI[/home/public/BeatPerception_DWI/Atlases/Derivatives/chroma_to_mni2009a_tmp_trgimg0.nii.gz,/home/public/BeatPerception_DWI/Atlases/Derivatives/chroma_to_mni2009a_tmp_srcimg0.nii.gz,1.000,32,Random,0.3]', '--convergence', '[10000x10000x10000x10000,1e-06,10]', '--smoothing-sigmas', '8x4.0x2.0x1.0', '--shrink-factors', '8x4x2x1', '--use-histogram-matching', '0', '--winsorize-image-intensities', '[ 0.001, 0.999 ]', '--write-composite-transform', '0']\n",
      "['--dimensionality', '3', '--input-image-type', '0', '--input', '/home/public/BeatPerception_DWI/Atlases/Derivatives/chroma_to_mni2009a_tmp_srcimg0.nii.gz', '--reference-image', '/home/public/BeatPerception_DWI/Atlases/Derivatives/chroma_to_mni2009a_tmp_trgimg0.nii.gz', '--interpolation', 'Linear', '--transform', '[chroma_to_mni2009a_tmp_syn0GenericAffine.mat,0]', '--output', '/home/public/BeatPerception_DWI/Atlases/Derivatives/chroma_to_mni2009a_ants-def0.nii.gz']\n",
      "['--dimensionality', '3', '--input-image-type', '3', '--input', '/home/public/BeatPerception_DWI/Atlases/Derivatives/chroma_to_mni2009a_tmp_srccoord.nii.gz', '--reference-image', '/home/public/BeatPerception_DWI/Atlases/Derivatives/chroma_to_mni2009a_tmp_trgimg0.nii.gz', '--interpolation', 'Linear', '--transform', '[chroma_to_mni2009a_tmp_syn0GenericAffine.mat,0]', '--output', '/home/public/BeatPerception_DWI/Atlases/Derivatives/chroma_to_mni2009a_ants-map.nii.gz']\n",
      "['--dimensionality', '3', '--input-image-type', '3', '--input', '/home/public/BeatPerception_DWI/Atlases/Derivatives/chroma_to_mni2009a_tmp_trgcoord.nii.gz', '--reference-image', '/home/public/BeatPerception_DWI/Atlases/Derivatives/chroma_to_mni2009a_tmp_srcimg0.nii.gz', '--interpolation', 'Linear', '--transform', '[chroma_to_mni2009a_tmp_syn0GenericAffine.mat,1]', '--output', '/home/public/BeatPerception_DWI/Atlases/Derivatives/chroma_to_mni2009a_ants-invmap.nii.gz']\n",
      "\n",
      "Saving /home/public/BeatPerception_DWI/Atlases/Derivatives/chroma_to_mni2009a_ants-map.nii.gz\n",
      "\n",
      "Saving /home/public/BeatPerception_DWI/Atlases/Derivatives/chroma_to_mni2009a_ants-invmap.nii.gz\n",
      "\n",
      "Saving /home/public/BeatPerception_DWI/Atlases/Derivatives/chroma_to_mni2009a_ants-def0.nii.gz\n"
     ]
    }
   ],
   "source": [
    "# Co-registration: all templates to MNI2009a\n",
    "ants = nighres.registration.embedded_antspy(\n",
    "                                    source_image=template_aal3,\n",
    "                                    target_image=template_hcp,\n",
    "                                    run_rigid=True, run_affine=False, run_syn=False,\n",
    "                                    rigid_iterations=10000,\n",
    "                                    cost_function='MutualInformation', \n",
    "                                    interpolation='Linear',\n",
    "                                    regularization='High',\n",
    "                                    mask_zero=False,\n",
    "                                    smooth_mask=0.0,\n",
    "                                    ignore_affine=True, \n",
    "                                    save_data=True, file_name='aal3_to_mni2009a',\n",
    "                                    output_dir=outputFolder)\n",
    "mapping_aal = ants['mapping']\n",
    "\n",
    "ants = nighres.registration.embedded_antspy(\n",
    "                                    source_image=template_massp,\n",
    "                                    target_image=template_hcp,\n",
    "                                    run_rigid=True, run_affine=False, run_syn=False,\n",
    "                                    rigid_iterations=10000,\n",
    "                                    cost_function='MutualInformation', \n",
    "                                    interpolation='Linear',\n",
    "                                    regularization='High',\n",
    "                                    mask_zero=False,\n",
    "                                    smooth_mask=0.0,\n",
    "                                    ignore_affine=True, \n",
    "                                    save_data=True, file_name='massp_to_mni2009a',\n",
    "                                    output_dir=outputFolder)\n",
    "\n",
    "mapping_massp = ants['mapping']\n",
    "\n",
    "ants = nighres.registration.embedded_antspy(\n",
    "                                    source_image=template_qt1,\n",
    "                                    target_image=template_brain,\n",
    "                                    run_rigid=True, run_affine=False, run_syn=False,\n",
    "                                    rigid_iterations=10000,\n",
    "                                    cost_function='MutualInformation', \n",
    "                                    interpolation='Linear',\n",
    "                                    regularization='High',\n",
    "                                    mask_zero=False,\n",
    "                                    smooth_mask=0.0,\n",
    "                                    ignore_affine=True, \n",
    "                                    save_data=True, file_name='chroma_to_mni2009a',\n",
    "                                    output_dir=outputFolder)\n",
    "\n",
    "mapping_chroma = ants['mapping']"
   ]
  },
  {
   "cell_type": "code",
   "execution_count": 7,
   "metadata": {},
   "outputs": [
    {
     "name": "stdout",
     "output_type": "stream",
     "text": [
      "\n",
      "Apply coordinate mappings\n",
      "\n",
      "Outputs will be saved to /home/public/BeatPerception_DWI/Atlases/Derivatives/\n",
      "skip computation (use existing results)\n",
      "\n",
      "Apply coordinate mappings\n",
      "\n",
      "Outputs will be saved to /home/public/BeatPerception_DWI/Atlases/Derivatives/\n",
      "skip computation (use existing results)\n",
      "\n",
      "Apply coordinate mappings\n",
      "\n",
      "Outputs will be saved to /home/public/BeatPerception_DWI/Atlases/Derivatives/\n",
      "\n",
      "Saving /home/public/BeatPerception_DWI/Atlases/Derivatives/chroma_to_mni2009a_def-img.nii.gz\n"
     ]
    }
   ],
   "source": [
    "# mapping the labels\n",
    "atlas_aal = nighres.registration.apply_coordinate_mappings(atlas_aal3,mapping_aal,\n",
    "                                               interpolation='nearest',\n",
    "                                    save_data=True, overwrite=False, file_name='aal3_to_mni2009a',\n",
    "                                    output_dir=outputFolder)['result']\n",
    "# massp atlas is flipped in Y...\n",
    "atlas_massp = nighres.io.load_volume(atlas_massp)\n",
    "atlas_massp = nibabel.Nifti1Image(numpy.flip(atlas_massp.get_fdata(),axis=1),atlas_massp.affine,atlas_massp.header)\n",
    "atlas_massp = nighres.registration.apply_coordinate_mappings(atlas_massp,mapping_massp,\n",
    "                                               interpolation='nearest',\n",
    "                                    save_data=True, overwrite=False, file_name='massp_to_mni2009a',\n",
    "                                    output_dir=outputFolder)['result']\n",
    "\n",
    "# mapping the labels\n",
    "atlas_chroma = nighres.registration.apply_coordinate_mappings(atlas_chroma,mapping_chroma,\n",
    "                                               interpolation='nearest',\n",
    "                                    save_data=True, overwrite=False, file_name='chroma_to_mni2009a',\n",
    "                                    output_dir=outputFolder)['result']\n"
   ]
  },
  {
   "cell_type": "code",
   "execution_count": 29,
   "metadata": {},
   "outputs": [
    {
     "name": "stdout",
     "output_type": "stream",
     "text": [
      "\n",
      "Saving /home/public/BeatPerception_DWI/Atlases/Derivatives/auditory_cortex_L.nii.gz\n",
      "\n",
      "Saving /home/public/BeatPerception_DWI/Atlases/Derivatives/auditory_cortex_R.nii.gz\n"
     ]
    }
   ],
   "source": [
    "# auditory cortex: HCP 24\n",
    "roi_L = outputFolder+'auditory_cortex_L.nii.gz'\n",
    "roi_R = outputFolder+'auditory_cortex_R.nii.gz'\n",
    "\n",
    "img = nighres.io.load_volume(atlas_hcp)\n",
    "data = img.get_fdata()\n",
    "data = (data>23.5)*(data<24.5)\n",
    "\n",
    "# split left right from X coordinate\n",
    "data_L = numpy.zeros(data.shape)\n",
    "data_L[0:98,:,:] = data[0:98,:,:]\n",
    "\n",
    "img_L = nibabel.Nifti1Image(data_L,img.affine,img.header)\n",
    "nighres.io.save_volume(roi_L,img_L)\n",
    "\n",
    "data_R = numpy.zeros(data.shape)\n",
    "data_R[99:197,:,:] = data[99:197,:,:]\n",
    "\n",
    "img_R = nibabel.Nifti1Image(data_R,img.affine,img.header)\n",
    "nighres.io.save_volume(roi_R,img_R)"
   ]
  },
  {
   "cell_type": "code",
   "execution_count": 36,
   "metadata": {},
   "outputs": [
    {
     "name": "stdout",
     "output_type": "stream",
     "text": [
      "\n",
      "Saving /home/public/BeatPerception_DWI/Atlases/Derivatives/sma_L.nii.gz\n",
      "\n",
      "Saving /home/public/BeatPerception_DWI/Atlases/Derivatives/sma_R.nii.gz\n"
     ]
    }
   ],
   "source": [
    "# SMA: HCP 44,55\n",
    "roi_L = outputFolder+'sma_L.nii.gz'\n",
    "roi_R = outputFolder+'sma_R.nii.gz'\n",
    "\n",
    "img = nighres.io.load_volume(atlas_hcp)\n",
    "data = img.get_fdata()\n",
    "data = (data>43.5)*(data<44.5)+(data>54.5)*(data<55.5)\n",
    "\n",
    "#combine with AAL labels? very coarse :(\n",
    "data2 = nighres.io.load_volume(atlas_aal).get_fdata()\n",
    "data2 = (data2>14.5)*(data2<16.5)\n",
    "#data = data+data2\n",
    "\n",
    "# split left right from X coordinate\n",
    "data_L = numpy.zeros(data.shape)\n",
    "data_L[0:98,:,:] = data[0:98,:,:]\n",
    "\n",
    "img_L = nibabel.Nifti1Image(data_L,img.affine,img.header)\n",
    "nighres.io.save_volume(roi_L,img_L)\n",
    "\n",
    "data_R = numpy.zeros(data.shape)\n",
    "data_R[99:197,:,:] = data[99:197,:,:]\n",
    "\n",
    "img_R = nibabel.Nifti1Image(data_R,img.affine,img.header)\n",
    "nighres.io.save_volume(roi_R,img_R)"
   ]
  },
  {
   "cell_type": "code",
   "execution_count": 5,
   "metadata": {},
   "outputs": [
    {
     "name": "stdout",
     "output_type": "stream",
     "text": [
      "\n",
      "Saving /home/public/BeatPerception_DWI/Atlases/Derivatives/premotor_cortex_L.nii.gz\n",
      "\n",
      "Saving /home/public/BeatPerception_DWI/Atlases/Derivatives/premotor_cortex_R.nii.gz\n"
     ]
    }
   ],
   "source": [
    "# PMd: HCP 54,96,56,78\n",
    "roi_L = outputFolder+'premotor_cortex_L.nii.gz'\n",
    "roi_R = outputFolder+'premotor_cortex_R.nii.gz'\n",
    "\n",
    "img = nighres.io.load_volume(atlas_hcp)\n",
    "data = img.get_fdata()\n",
    "data = (data>53.5)*(data<54.5)+(data>55.5)*(data<56.5)+(data>95.5)*(data<96.5)+(data>77.5)*(data<78.5)\\\n",
    "        +(data>9.5)*(data<12.5)\n",
    "\n",
    "# split left right from X coordinate\n",
    "data_L = numpy.zeros(data.shape)\n",
    "data_L[0:98,:,:] = data[0:98,:,:]\n",
    "\n",
    "img_L = nibabel.Nifti1Image(data_L,img.affine,img.header)\n",
    "nighres.io.save_volume(roi_L,img_L)\n",
    "\n",
    "data_R = numpy.zeros(data.shape)\n",
    "data_R[99:197,:,:] = data[99:197,:,:]\n",
    "\n",
    "img_R = nibabel.Nifti1Image(data_R,img.affine,img.header)\n",
    "nighres.io.save_volume(roi_R,img_R)"
   ]
  },
  {
   "cell_type": "code",
   "execution_count": 44,
   "metadata": {},
   "outputs": [
    {
     "name": "stdout",
     "output_type": "stream",
     "text": [
      "\n",
      "Saving /home/public/BeatPerception_DWI/Atlases/Derivatives/caudate_L.nii.gz\n",
      "\n",
      "Saving /home/public/BeatPerception_DWI/Atlases/Derivatives/caudate_R.nii.gz\n"
     ]
    }
   ],
   "source": [
    "roi_L = outputFolder+'caudate_L.nii.gz'\n",
    "roi_R = outputFolder+'caudate_R.nii.gz'\n",
    "\n",
    "# Caudate: intersect AAL and MASSP\n",
    "img = nighres.io.load_volume(atlas_massp)\n",
    "data = img.get_fdata()\n",
    "data = (data>0.5)*(data<2.5)\n",
    "\n",
    "#combine with AAL labels? very coarse :(\n",
    "data2 = nighres.io.load_volume(atlas_aal).get_fdata()\n",
    "data2 = (data2>74.5)*(data2<76.5)\n",
    "data = data*data2\n",
    "\n",
    "# split left right from X coordinate\n",
    "data_L = numpy.zeros(data.shape)\n",
    "data_L[0:98,:,:] = data[0:98,:,:]\n",
    "\n",
    "img_L = nibabel.Nifti1Image(data_L,img.affine,img.header)\n",
    "nighres.io.save_volume(roi_L,img_L)\n",
    "\n",
    "data_R = numpy.zeros(data.shape)\n",
    "data_R[99:197,:,:] = data[99:197,:,:]\n",
    "\n",
    "img_R = nibabel.Nifti1Image(data_R,img.affine,img.header)\n",
    "nighres.io.save_volume(roi_R,img_R)"
   ]
  },
  {
   "cell_type": "code",
   "execution_count": 45,
   "metadata": {},
   "outputs": [
    {
     "name": "stdout",
     "output_type": "stream",
     "text": [
      "\n",
      "Saving /home/public/BeatPerception_DWI/Atlases/Derivatives/putamen_L.nii.gz\n",
      "\n",
      "Saving /home/public/BeatPerception_DWI/Atlases/Derivatives/putamen_R.nii.gz\n"
     ]
    }
   ],
   "source": [
    "roi_L = outputFolder+'putamen_L.nii.gz'\n",
    "roi_R = outputFolder+'putamen_R.nii.gz'\n",
    "\n",
    "# Caudate: intersect AAL and MASSP\n",
    "img = nighres.io.load_volume(atlas_massp)\n",
    "data = img.get_fdata()\n",
    "data = (data>0.5)*(data<2.5)\n",
    "\n",
    "#combine with AAL labels? very coarse :(\n",
    "data2 = nighres.io.load_volume(atlas_aal).get_fdata()\n",
    "data2 = (data2>76.5)*(data2<78.5)\n",
    "data = data*data2\n",
    "\n",
    "# split left right from X coordinate\n",
    "data_L = numpy.zeros(data.shape)\n",
    "data_L[0:98,:,:] = data[0:98,:,:]\n",
    "\n",
    "img_L = nibabel.Nifti1Image(data_L,img.affine,img.header)\n",
    "nighres.io.save_volume(roi_L,img_L)\n",
    "\n",
    "data_R = numpy.zeros(data.shape)\n",
    "data_R[99:197,:,:] = data[99:197,:,:]\n",
    "\n",
    "img_R = nibabel.Nifti1Image(data_R,img.affine,img.header)\n",
    "nighres.io.save_volume(roi_R,img_R)"
   ]
  },
  {
   "cell_type": "code",
   "execution_count": 46,
   "metadata": {},
   "outputs": [
    {
     "name": "stdout",
     "output_type": "stream",
     "text": [
      "\n",
      "Saving /home/public/BeatPerception_DWI/Atlases/Derivatives/gpi_L.nii.gz\n",
      "\n",
      "Saving /home/public/BeatPerception_DWI/Atlases/Derivatives/gpi_R.nii.gz\n"
     ]
    }
   ],
   "source": [
    "roi_L = outputFolder+'gpi_L.nii.gz'\n",
    "roi_R = outputFolder+'gpi_R.nii.gz'\n",
    "\n",
    "# GPi: MASSP\n",
    "img = nighres.io.load_volume(atlas_massp)\n",
    "data = img.get_fdata()\n",
    "data = (data>8.5)*(data<10.5)\n",
    "\n",
    "# split left right from X coordinate\n",
    "data_L = numpy.zeros(data.shape)\n",
    "data_L[0:98,:,:] = data[0:98,:,:]\n",
    "\n",
    "img_L = nibabel.Nifti1Image(data_L,img.affine,img.header)\n",
    "nighres.io.save_volume(roi_L,img_L)\n",
    "\n",
    "data_R = numpy.zeros(data.shape)\n",
    "data_R[99:197,:,:] = data[99:197,:,:]\n",
    "\n",
    "img_R = nibabel.Nifti1Image(data_R,img.affine,img.header)\n",
    "nighres.io.save_volume(roi_R,img_R)"
   ]
  },
  {
   "cell_type": "code",
   "execution_count": 8,
   "metadata": {},
   "outputs": [
    {
     "name": "stdout",
     "output_type": "stream",
     "text": [
      "\n",
      "Saving /home/public/BeatPerception_DWI/Atlases/Derivatives/cerebellum456_L.nii.gz\n",
      "\n",
      "Saving /home/public/BeatPerception_DWI/Atlases/Derivatives/cerebellum456_R.nii.gz\n"
     ]
    }
   ],
   "source": [
    "roi_L = outputFolder+'cerebellum456_L.nii.gz'\n",
    "roi_R = outputFolder+'cerebellum456_R.nii.gz'\n",
    "\n",
    "# Cerebellum lobules: AAL x GM mask?\n",
    "#img = nighres.io.load_volume(template_gm)\n",
    "#data = img.get_fdata()\n",
    "#data = (data>0.75)\n",
    "\n",
    "#combine with AAL labels? very coarse :(\n",
    "#data2 = nighres.io.load_volume(atlas_aal).get_fdata()\n",
    "#data2 = (data2>100.5)*(data2<104.5)\n",
    "#data = data*data2\n",
    "\n",
    "# use Chroma instead?\n",
    "img = nighres.io.load_volume(atlas_chroma)\n",
    "data = img.get_fdata()\n",
    "data = (data>2.5)*(data<5.5)+(data>14.5)*(data<17.5)\n",
    "\n",
    "# split left right from X coordinate\n",
    "data_L = numpy.zeros(data.shape)\n",
    "data_L[0:98,:,:] = data[0:98,:,:]\n",
    "\n",
    "img_L = nibabel.Nifti1Image(data_L,img.affine,img.header)\n",
    "nighres.io.save_volume(roi_L,img_L)\n",
    "\n",
    "data_R = numpy.zeros(data.shape)\n",
    "data_R[99:197,:,:] = data[99:197,:,:]\n",
    "\n",
    "img_R = nibabel.Nifti1Image(data_R,img.affine,img.header)\n",
    "nighres.io.save_volume(roi_R,img_R)"
   ]
  },
  {
   "cell_type": "code",
   "execution_count": 50,
   "metadata": {},
   "outputs": [
    {
     "name": "stdout",
     "output_type": "stream",
     "text": [
      "\n",
      "Saving /home/public/BeatPerception_DWI/Atlases/Derivatives/hippocampus_L.nii.gz\n",
      "\n",
      "Saving /home/public/BeatPerception_DWI/Atlases/Derivatives/hippocampus_R.nii.gz\n"
     ]
    }
   ],
   "source": [
    "# hippocampus: HCP\n",
    "roi_L = outputFolder+'hippocampus_L.nii.gz'\n",
    "roi_R = outputFolder+'hippocampus_R.nii.gz'\n",
    "\n",
    "img = nighres.io.load_volume(atlas_hcp)\n",
    "data = img.get_fdata()\n",
    "data = (data>119.5)*(data<120.5)\n",
    "\n",
    "# split left right from X coordinate\n",
    "data_L = numpy.zeros(data.shape)\n",
    "data_L[0:98,:,:] = data[0:98,:,:]\n",
    "\n",
    "img_L = nibabel.Nifti1Image(data_L,img.affine,img.header)\n",
    "nighres.io.save_volume(roi_L,img_L)\n",
    "\n",
    "data_R = numpy.zeros(data.shape)\n",
    "data_R[99:197,:,:] = data[99:197,:,:]\n",
    "\n",
    "img_R = nibabel.Nifti1Image(data_R,img.affine,img.header)\n",
    "nighres.io.save_volume(roi_R,img_R)"
   ]
  },
  {
   "cell_type": "code",
   "execution_count": 51,
   "metadata": {},
   "outputs": [
    {
     "name": "stdout",
     "output_type": "stream",
     "text": [
      "\n",
      "Saving /home/public/BeatPerception_DWI/Atlases/Derivatives/thalamus_L.nii.gz\n",
      "\n",
      "Saving /home/public/BeatPerception_DWI/Atlases/Derivatives/thalamus_R.nii.gz\n"
     ]
    }
   ],
   "source": [
    "roi_L = outputFolder+'thalamus_L.nii.gz'\n",
    "roi_R = outputFolder+'thalamus_R.nii.gz'\n",
    "\n",
    "# Thalamus: MASSP\n",
    "img = nighres.io.load_volume(atlas_massp)\n",
    "data = img.get_fdata()\n",
    "data = (data>12.5)*(data<14.5)\n",
    "\n",
    "# split left right from X coordinate\n",
    "data_L = numpy.zeros(data.shape)\n",
    "data_L[0:98,:,:] = data[0:98,:,:]\n",
    "\n",
    "img_L = nibabel.Nifti1Image(data_L,img.affine,img.header)\n",
    "nighres.io.save_volume(roi_L,img_L)\n",
    "\n",
    "data_R = numpy.zeros(data.shape)\n",
    "data_R[99:197,:,:] = data[99:197,:,:]\n",
    "\n",
    "img_R = nibabel.Nifti1Image(data_R,img.affine,img.header)\n",
    "nighres.io.save_volume(roi_R,img_R)"
   ]
  },
  {
   "cell_type": "code",
   "execution_count": null,
   "metadata": {},
   "outputs": [],
   "source": []
  }
 ],
 "metadata": {
  "kernelspec": {
   "display_name": "Python 3",
   "language": "python",
   "name": "python3"
  },
  "language_info": {
   "codemirror_mode": {
    "name": "ipython",
    "version": 3
   },
   "file_extension": ".py",
   "mimetype": "text/x-python",
   "name": "python",
   "nbconvert_exporter": "python",
   "pygments_lexer": "ipython3",
   "version": "3.8.10"
  }
 },
 "nbformat": 4,
 "nbformat_minor": 4
}
